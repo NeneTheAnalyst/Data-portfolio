{
 "cells": [
  {
   "cell_type": "code",
   "execution_count": 2,
   "id": "b0815f80-cadf-40eb-b5b7-c8ad359589b3",
   "metadata": {
    "tags": []
   },
   "outputs": [],
   "source": [
    "%load_ext sql"
   ]
  },
  {
   "cell_type": "code",
   "execution_count": 3,
   "id": "a09d6152-8112-457b-a7c2-ee40f06f6315",
   "metadata": {
    "tags": []
   },
   "outputs": [
    {
     "data": {
      "text/plain": [
       "'Connected: vlp83309@bludb'"
      ]
     },
     "execution_count": 3,
     "metadata": {},
     "output_type": "execute_result"
    }
   ],
   "source": [
    "# %sql ibm_db_sa://my-username:my-password@my-hostname:my-port/my-db-name?security=SSL\n",
    "%sql ibm_db_sa://vlp83309:CXw07KDP8qg5RgPx@ea286ace-86c7-4d5b-8580-3fbfa46b1c66.bs2io90l08kqb1od8lcg.databases.appdomain.cloud:31505/bludb?security=SSL"
   ]
  },
  {
   "cell_type": "code",
   "execution_count": 4,
   "id": "de3ca361-115b-4410-8785-e49be11b990e",
   "metadata": {
    "tags": []
   },
   "outputs": [
    {
     "name": "stdout",
     "output_type": "stream",
     "text": [
      " * ibm_db_sa://vlp83309:***@ea286ace-86c7-4d5b-8580-3fbfa46b1c66.bs2io90l08kqb1od8lcg.databases.appdomain.cloud:31505/bludb\n",
      "Done.\n"
     ]
    },
    {
     "data": {
      "text/html": [
       "<table>\n",
       "    <thead>\n",
       "        <tr>\n",
       "            <th>ordernumber</th>\n",
       "            <th>quantityordered</th>\n",
       "            <th>priceeach</th>\n",
       "            <th>orderlinenumber</th>\n",
       "            <th>sales</th>\n",
       "            <th>orderdate</th>\n",
       "            <th>status</th>\n",
       "            <th>qtr_id</th>\n",
       "            <th>month_id</th>\n",
       "            <th>year_id</th>\n",
       "            <th>productline</th>\n",
       "            <th>msrp</th>\n",
       "            <th>productcode</th>\n",
       "            <th>customername</th>\n",
       "            <th>phone</th>\n",
       "            <th>addressline1</th>\n",
       "            <th>addressline2</th>\n",
       "            <th>city</th>\n",
       "            <th>state</th>\n",
       "            <th>postalcode</th>\n",
       "            <th>country</th>\n",
       "            <th>territory</th>\n",
       "            <th>contactlastname</th>\n",
       "            <th>contactfirstname</th>\n",
       "            <th>dealsize</th>\n",
       "        </tr>\n",
       "    </thead>\n",
       "    <tbody>\n",
       "        <tr>\n",
       "            <td>10223</td>\n",
       "            <td>37</td>\n",
       "            <td>100.00</td>\n",
       "            <td>1</td>\n",
       "            <td>3965.66</td>\n",
       "            <td>02/20/04 0:00</td>\n",
       "            <td>Shipped</td>\n",
       "            <td>1</td>\n",
       "            <td>2</td>\n",
       "            <td>2004</td>\n",
       "            <td>Motorcycles</td>\n",
       "            <td>95</td>\n",
       "            <td>S10_1678</td>\n",
       "            <td>Australian Collectors, Co.</td>\n",
       "            <td>03 9520 4555</td>\n",
       "            <td>636 St Kilda Road</td>\n",
       "            <td>Level 3</td>\n",
       "            <td>Melbourne</td>\n",
       "            <td>Victoria</td>\n",
       "            <td>3004</td>\n",
       "            <td>Australia</td>\n",
       "            <td>APAC</td>\n",
       "            <td>Ferguson</td>\n",
       "            <td>Peter</td>\n",
       "            <td>Medium</td>\n",
       "        </tr>\n",
       "        <tr>\n",
       "            <td>10237</td>\n",
       "            <td>23</td>\n",
       "            <td>100.00</td>\n",
       "            <td>7</td>\n",
       "            <td>2333.12</td>\n",
       "            <td>04/05/04 0:00</td>\n",
       "            <td>Shipped</td>\n",
       "            <td>2</td>\n",
       "            <td>4</td>\n",
       "            <td>2004</td>\n",
       "            <td>Motorcycles</td>\n",
       "            <td>95</td>\n",
       "            <td>S10_1678</td>\n",
       "            <td>Vitachrome Inc.</td>\n",
       "            <td>2125551500</td>\n",
       "            <td>2678 Kingston Rd.</td>\n",
       "            <td>Suite 101</td>\n",
       "            <td>NYC</td>\n",
       "            <td>NY</td>\n",
       "            <td>10022</td>\n",
       "            <td>USA</td>\n",
       "            <td>NA</td>\n",
       "            <td>Frick</td>\n",
       "            <td>Michael</td>\n",
       "            <td>Small</td>\n",
       "        </tr>\n",
       "        <tr>\n",
       "            <td>10361</td>\n",
       "            <td>20</td>\n",
       "            <td>72.55</td>\n",
       "            <td>13</td>\n",
       "            <td>1451.00</td>\n",
       "            <td>12/17/04 0:00</td>\n",
       "            <td>Shipped</td>\n",
       "            <td>4</td>\n",
       "            <td>12</td>\n",
       "            <td>2004</td>\n",
       "            <td>Motorcycles</td>\n",
       "            <td>95</td>\n",
       "            <td>S10_1678</td>\n",
       "            <td>Souveniers And Things Co.</td>\n",
       "            <td>+61 2 9495 8555</td>\n",
       "            <td>Monitor Money Building, 815 Pacific Hwy</td>\n",
       "            <td>Level 6</td>\n",
       "            <td>Chatswood</td>\n",
       "            <td>NSW</td>\n",
       "            <td>2067</td>\n",
       "            <td>Australia</td>\n",
       "            <td>APAC</td>\n",
       "            <td>Huxley</td>\n",
       "            <td>Adrian</td>\n",
       "            <td>Small</td>\n",
       "        </tr>\n",
       "        <tr>\n",
       "            <td>10163</td>\n",
       "            <td>21</td>\n",
       "            <td>100.00</td>\n",
       "            <td>1</td>\n",
       "            <td>4860.24</td>\n",
       "            <td>10/20/03 0:00</td>\n",
       "            <td>Shipped</td>\n",
       "            <td>4</td>\n",
       "            <td>10</td>\n",
       "            <td>2003</td>\n",
       "            <td>Classic Cars</td>\n",
       "            <td>214</td>\n",
       "            <td>S10_1949</td>\n",
       "            <td>Classic Legends Inc.</td>\n",
       "            <td>2125558493</td>\n",
       "            <td>5905 Pompton St.</td>\n",
       "            <td>Suite 750</td>\n",
       "            <td>NYC</td>\n",
       "            <td>NY</td>\n",
       "            <td>10022</td>\n",
       "            <td>USA</td>\n",
       "            <td>NA</td>\n",
       "            <td>Hernandez</td>\n",
       "            <td>Maria</td>\n",
       "            <td>Medium</td>\n",
       "        </tr>\n",
       "        <tr>\n",
       "            <td>10270</td>\n",
       "            <td>21</td>\n",
       "            <td>100.00</td>\n",
       "            <td>9</td>\n",
       "            <td>4905.39</td>\n",
       "            <td>07/19/04 0:00</td>\n",
       "            <td>Shipped</td>\n",
       "            <td>3</td>\n",
       "            <td>7</td>\n",
       "            <td>2004</td>\n",
       "            <td>Classic Cars</td>\n",
       "            <td>214</td>\n",
       "            <td>S10_1949</td>\n",
       "            <td>Souveniers And Things Co.</td>\n",
       "            <td>+61 2 9495 8555</td>\n",
       "            <td>Monitor Money Building, 815 Pacific Hwy</td>\n",
       "            <td>Level 6</td>\n",
       "            <td>Chatswood</td>\n",
       "            <td>NSW</td>\n",
       "            <td>2067</td>\n",
       "            <td>Australia</td>\n",
       "            <td>APAC</td>\n",
       "            <td>Huxley</td>\n",
       "            <td>Adrian</td>\n",
       "            <td>Medium</td>\n",
       "        </tr>\n",
       "    </tbody>\n",
       "</table>"
      ],
      "text/plain": [
       "[(10223, 37, Decimal('100.00'), 1, Decimal('3965.66'), '02/20/04 0:00', 'Shipped', 1, 2, 2004, 'Motorcycles', 95, 'S10_1678', 'Australian Collectors, Co.', '03 9520 4555', '636 St Kilda Road', 'Level 3', 'Melbourne', 'Victoria', 3004, 'Australia', 'APAC', 'Ferguson', 'Peter', 'Medium'),\n",
       " (10237, 23, Decimal('100.00'), 7, Decimal('2333.12'), '04/05/04 0:00', 'Shipped', 2, 4, 2004, 'Motorcycles', 95, 'S10_1678', 'Vitachrome Inc.', '2125551500', '2678 Kingston Rd.', 'Suite 101', 'NYC', 'NY', 10022, 'USA', 'NA', 'Frick', 'Michael', 'Small'),\n",
       " (10361, 20, Decimal('72.55'), 13, Decimal('1451.00'), '12/17/04 0:00', 'Shipped', 4, 12, 2004, 'Motorcycles', 95, 'S10_1678', 'Souveniers And Things Co.', '+61 2 9495 8555', 'Monitor Money Building, 815 Pacific Hwy', 'Level 6', 'Chatswood', 'NSW', 2067, 'Australia', 'APAC', 'Huxley', 'Adrian', 'Small'),\n",
       " (10163, 21, Decimal('100.00'), 1, Decimal('4860.24'), '10/20/03 0:00', 'Shipped', 4, 10, 2003, 'Classic Cars', 214, 'S10_1949', 'Classic Legends Inc.', '2125558493', '5905 Pompton St.', 'Suite 750', 'NYC', 'NY', 10022, 'USA', 'NA', 'Hernandez', 'Maria', 'Medium'),\n",
       " (10270, 21, Decimal('100.00'), 9, Decimal('4905.39'), '07/19/04 0:00', 'Shipped', 3, 7, 2004, 'Classic Cars', 214, 'S10_1949', 'Souveniers And Things Co.', '+61 2 9495 8555', 'Monitor Money Building, 815 Pacific Hwy', 'Level 6', 'Chatswood', 'NSW', 2067, 'Australia', 'APAC', 'Huxley', 'Adrian', 'Medium')]"
      ]
     },
     "execution_count": 4,
     "metadata": {},
     "output_type": "execute_result"
    }
   ],
   "source": [
    "%sql select * from sales limit 5;"
   ]
  },
  {
   "cell_type": "markdown",
   "id": "bc98f68e-b921-42f0-8241-89a19d8d3a3a",
   "metadata": {},
   "source": [
    "# Business Questions To Answer"
   ]
  },
  {
   "cell_type": "markdown",
   "id": "560be9cc-f20d-406a-ae98-eb34e0bf1bc2",
   "metadata": {},
   "source": [
    "### How many unique cities does the data have?\n"
   ]
  },
  {
   "cell_type": "code",
   "execution_count": 5,
   "id": "cb1e4fcc-fca4-4876-b566-23f8aef08437",
   "metadata": {
    "tags": []
   },
   "outputs": [
    {
     "name": "stdout",
     "output_type": "stream",
     "text": [
      " * ibm_db_sa://vlp83309:***@ea286ace-86c7-4d5b-8580-3fbfa46b1c66.bs2io90l08kqb1od8lcg.databases.appdomain.cloud:31505/bludb\n",
      "Done.\n"
     ]
    },
    {
     "data": {
      "text/html": [
       "<table>\n",
       "    <thead>\n",
       "        <tr>\n",
       "            <th>city</th>\n",
       "        </tr>\n",
       "    </thead>\n",
       "    <tbody>\n",
       "        <tr>\n",
       "            <td>Chatswood</td>\n",
       "        </tr>\n",
       "        <tr>\n",
       "            <td>Melbourne</td>\n",
       "        </tr>\n",
       "        <tr>\n",
       "            <td>NYC</td>\n",
       "        </tr>\n",
       "        <tr>\n",
       "            <td>North Sydney</td>\n",
       "        </tr>\n",
       "    </tbody>\n",
       "</table>"
      ],
      "text/plain": [
       "[('Chatswood',), ('Melbourne',), ('NYC',), ('North Sydney',)]"
      ]
     },
     "execution_count": 5,
     "metadata": {},
     "output_type": "execute_result"
    }
   ],
   "source": [
    "%sql Select distinct city from SALES"
   ]
  },
  {
   "cell_type": "markdown",
   "id": "2746f356-0740-477b-bd3d-e5adc0a4bb9b",
   "metadata": {},
   "source": [
    "### How many unique product lines does the data have?\n"
   ]
  },
  {
   "cell_type": "code",
   "execution_count": 5,
   "id": "9dd926ce-3935-42c0-a24c-1bf7336d84dc",
   "metadata": {
    "tags": []
   },
   "outputs": [
    {
     "name": "stdout",
     "output_type": "stream",
     "text": [
      " * ibm_db_sa://vlp83309:***@ea286ace-86c7-4d5b-8580-3fbfa46b1c66.bs2io90l08kqb1od8lcg.databases.appdomain.cloud:31505/bludb\n",
      "Done.\n"
     ]
    },
    {
     "data": {
      "text/html": [
       "<table>\n",
       "    <thead>\n",
       "        <tr>\n",
       "            <th>1</th>\n",
       "        </tr>\n",
       "    </thead>\n",
       "    <tbody>\n",
       "        <tr>\n",
       "            <td>7</td>\n",
       "        </tr>\n",
       "    </tbody>\n",
       "</table>"
      ],
      "text/plain": [
       "[(7,)]"
      ]
     },
     "execution_count": 5,
     "metadata": {},
     "output_type": "execute_result"
    }
   ],
   "source": [
    "%sql Select count(distinct productline) from SALES;"
   ]
  },
  {
   "cell_type": "markdown",
   "id": "e2d0ba50-798c-43e0-a18e-b2c68198e7be",
   "metadata": {},
   "source": [
    "### What is the most selling product line?"
   ]
  },
  {
   "cell_type": "code",
   "execution_count": 6,
   "id": "511dfece-9ccb-4066-b5c3-a27c410abbaa",
   "metadata": {
    "tags": []
   },
   "outputs": [
    {
     "name": "stdout",
     "output_type": "stream",
     "text": [
      " * ibm_db_sa://vlp83309:***@ea286ace-86c7-4d5b-8580-3fbfa46b1c66.bs2io90l08kqb1od8lcg.databases.appdomain.cloud:31505/bludb\n",
      "Done.\n"
     ]
    },
    {
     "data": {
      "text/html": [
       "<table>\n",
       "    <thead>\n",
       "        <tr>\n",
       "            <th>productline</th>\n",
       "            <th>cnt</th>\n",
       "        </tr>\n",
       "    </thead>\n",
       "    <tbody>\n",
       "        <tr>\n",
       "            <td>Classic Cars</td>\n",
       "            <td>96</td>\n",
       "        </tr>\n",
       "        <tr>\n",
       "            <td>Vintage Cars</td>\n",
       "            <td>55</td>\n",
       "        </tr>\n",
       "        <tr>\n",
       "            <td>Motorcycles</td>\n",
       "            <td>37</td>\n",
       "        </tr>\n",
       "        <tr>\n",
       "            <td>Trucks and Buses</td>\n",
       "            <td>32</td>\n",
       "        </tr>\n",
       "        <tr>\n",
       "            <td>Planes</td>\n",
       "            <td>21</td>\n",
       "        </tr>\n",
       "        <tr>\n",
       "            <td>Ships</td>\n",
       "            <td>6</td>\n",
       "        </tr>\n",
       "        <tr>\n",
       "            <td>Trains</td>\n",
       "            <td>3</td>\n",
       "        </tr>\n",
       "    </tbody>\n",
       "</table>"
      ],
      "text/plain": [
       "[('Classic Cars', 96),\n",
       " ('Vintage Cars', 55),\n",
       " ('Motorcycles', 37),\n",
       " ('Trucks and Buses', 32),\n",
       " ('Planes', 21),\n",
       " ('Ships', 6),\n",
       " ('Trains', 3)]"
      ]
     },
     "execution_count": 6,
     "metadata": {},
     "output_type": "execute_result"
    }
   ],
   "source": [
    "%sql Select productline, count(productline) AS CNT from SALES group by productline order by CNT desc;"
   ]
  },
  {
   "cell_type": "markdown",
   "id": "18e88d16-9ec8-4396-b1b3-50676c362f43",
   "metadata": {
    "tags": []
   },
   "source": [
    "### What is the total sales by month?\n"
   ]
  },
  {
   "cell_type": "code",
   "execution_count": 8,
   "id": "221e42a9-3187-4897-9ef7-57df4e94d842",
   "metadata": {
    "tags": []
   },
   "outputs": [
    {
     "name": "stdout",
     "output_type": "stream",
     "text": [
      " * ibm_db_sa://vlp83309:***@ea286ace-86c7-4d5b-8580-3fbfa46b1c66.bs2io90l08kqb1od8lcg.databases.appdomain.cloud:31505/bludb\n",
      "Done.\n"
     ]
    },
    {
     "data": {
      "text/html": [
       "<table>\n",
       "    <thead>\n",
       "        <tr>\n",
       "            <th>month_id</th>\n",
       "            <th>total_sales</th>\n",
       "        </tr>\n",
       "    </thead>\n",
       "    <tbody>\n",
       "        <tr>\n",
       "            <td>11</td>\n",
       "            <td>248566.01</td>\n",
       "        </tr>\n",
       "        <tr>\n",
       "            <td>12</td>\n",
       "            <td>143927.76</td>\n",
       "        </tr>\n",
       "        <tr>\n",
       "            <td>4</td>\n",
       "            <td>101678.19</td>\n",
       "        </tr>\n",
       "        <tr>\n",
       "            <td>7</td>\n",
       "            <td>92946.58</td>\n",
       "        </tr>\n",
       "        <tr>\n",
       "            <td>6</td>\n",
       "            <td>68462.15</td>\n",
       "        </tr>\n",
       "        <tr>\n",
       "            <td>5</td>\n",
       "            <td>53709.61</td>\n",
       "        </tr>\n",
       "        <tr>\n",
       "            <td>2</td>\n",
       "            <td>49637.57</td>\n",
       "        </tr>\n",
       "        <tr>\n",
       "            <td>9</td>\n",
       "            <td>47191.76</td>\n",
       "        </tr>\n",
       "        <tr>\n",
       "            <td>1</td>\n",
       "            <td>36716.22</td>\n",
       "        </tr>\n",
       "        <tr>\n",
       "            <td>3</td>\n",
       "            <td>35160.25</td>\n",
       "        </tr>\n",
       "        <tr>\n",
       "            <td>10</td>\n",
       "            <td>25284.75</td>\n",
       "        </tr>\n",
       "    </tbody>\n",
       "</table>"
      ],
      "text/plain": [
       "[(11, Decimal('248566.01')),\n",
       " (12, Decimal('143927.76')),\n",
       " (4, Decimal('101678.19')),\n",
       " (7, Decimal('92946.58')),\n",
       " (6, Decimal('68462.15')),\n",
       " (5, Decimal('53709.61')),\n",
       " (2, Decimal('49637.57')),\n",
       " (9, Decimal('47191.76')),\n",
       " (1, Decimal('36716.22')),\n",
       " (3, Decimal('35160.25')),\n",
       " (10, Decimal('25284.75'))]"
      ]
     },
     "execution_count": 8,
     "metadata": {},
     "output_type": "execute_result"
    }
   ],
   "source": [
    "%sql Select month_id, sum(sales) AS Total_sales from SALES group by month_id order by Total_sales desc;"
   ]
  },
  {
   "cell_type": "markdown",
   "id": "f4df4fe3-e75f-4c7a-8dcd-81b4059b379c",
   "metadata": {},
   "source": [
    "### What product line had the largest sales??\n"
   ]
  },
  {
   "cell_type": "code",
   "execution_count": 9,
   "id": "563954c3-04bc-45f8-ab97-09fd22305c0e",
   "metadata": {
    "tags": []
   },
   "outputs": [
    {
     "name": "stdout",
     "output_type": "stream",
     "text": [
      " * ibm_db_sa://vlp83309:***@ea286ace-86c7-4d5b-8580-3fbfa46b1c66.bs2io90l08kqb1od8lcg.databases.appdomain.cloud:31505/bludb\n",
      "Done.\n"
     ]
    },
    {
     "data": {
      "text/html": [
       "<table>\n",
       "    <thead>\n",
       "        <tr>\n",
       "            <th>productline</th>\n",
       "            <th>total_sales</th>\n",
       "        </tr>\n",
       "    </thead>\n",
       "    <tbody>\n",
       "        <tr>\n",
       "            <td>Classic Cars</td>\n",
       "            <td>379958.23</td>\n",
       "        </tr>\n",
       "        <tr>\n",
       "            <td>Vintage Cars</td>\n",
       "            <td>199436.24</td>\n",
       "        </tr>\n",
       "        <tr>\n",
       "            <td>Trucks and Buses</td>\n",
       "            <td>120698.50</td>\n",
       "        </tr>\n",
       "        <tr>\n",
       "            <td>Motorcycles</td>\n",
       "            <td>116738.31</td>\n",
       "        </tr>\n",
       "        <tr>\n",
       "            <td>Planes</td>\n",
       "            <td>63772.09</td>\n",
       "        </tr>\n",
       "        <tr>\n",
       "            <td>Ships</td>\n",
       "            <td>15146.83</td>\n",
       "        </tr>\n",
       "        <tr>\n",
       "            <td>Trains</td>\n",
       "            <td>7530.65</td>\n",
       "        </tr>\n",
       "    </tbody>\n",
       "</table>"
      ],
      "text/plain": [
       "[('Classic Cars', Decimal('379958.23')),\n",
       " ('Vintage Cars', Decimal('199436.24')),\n",
       " ('Trucks and Buses', Decimal('120698.50')),\n",
       " ('Motorcycles', Decimal('116738.31')),\n",
       " ('Planes', Decimal('63772.09')),\n",
       " ('Ships', Decimal('15146.83')),\n",
       " ('Trains', Decimal('7530.65'))]"
      ]
     },
     "execution_count": 9,
     "metadata": {},
     "output_type": "execute_result"
    }
   ],
   "source": [
    "%sql Select productline, sum(sales) as Total_sales from SALES group by productline order by Total_sales desc;"
   ]
  },
  {
   "cell_type": "markdown",
   "id": "1eaf0160-a9e2-486b-b5d5-38e2c5ad45f9",
   "metadata": {},
   "source": [
    "### What is the city with the largest sales?"
   ]
  },
  {
   "cell_type": "code",
   "execution_count": 11,
   "id": "d2ccb3c6-58b4-4ee6-9539-0de3385324a0",
   "metadata": {
    "tags": []
   },
   "outputs": [
    {
     "name": "stdout",
     "output_type": "stream",
     "text": [
      " * ibm_db_sa://vlp83309:***@ea286ace-86c7-4d5b-8580-3fbfa46b1c66.bs2io90l08kqb1od8lcg.databases.appdomain.cloud:31505/bludb\n",
      "Done.\n"
     ]
    },
    {
     "data": {
      "text/html": [
       "<table>\n",
       "    <thead>\n",
       "        <tr>\n",
       "            <th>city</th>\n",
       "            <th>total_sales</th>\n",
       "        </tr>\n",
       "    </thead>\n",
       "    <tbody>\n",
       "        <tr>\n",
       "            <td>NYC</td>\n",
       "            <td>396718.33</td>\n",
       "        </tr>\n",
       "        <tr>\n",
       "            <td>Melbourne</td>\n",
       "            <td>200995.41</td>\n",
       "        </tr>\n",
       "        <tr>\n",
       "            <td>North Sydney</td>\n",
       "            <td>153996.13</td>\n",
       "        </tr>\n",
       "        <tr>\n",
       "            <td>Chatswood</td>\n",
       "            <td>151570.98</td>\n",
       "        </tr>\n",
       "    </tbody>\n",
       "</table>"
      ],
      "text/plain": [
       "[('NYC', Decimal('396718.33')),\n",
       " ('Melbourne', Decimal('200995.41')),\n",
       " ('North Sydney', Decimal('153996.13')),\n",
       " ('Chatswood', Decimal('151570.98'))]"
      ]
     },
     "execution_count": 11,
     "metadata": {},
     "output_type": "execute_result"
    }
   ],
   "source": [
    "%sql Select city, sum(sales) as Total_sales from SALES group by city order by Total_sales desc;"
   ]
  },
  {
   "cell_type": "markdown",
   "id": "8c605540-dce8-4705-8729-2e525f267faa",
   "metadata": {},
   "source": [
    "### What year has the largest sales?\n"
   ]
  },
  {
   "cell_type": "code",
   "execution_count": 12,
   "id": "d7ce7bd1-0e5c-41dd-ae84-90cd166b2c42",
   "metadata": {
    "tags": []
   },
   "outputs": [
    {
     "name": "stdout",
     "output_type": "stream",
     "text": [
      " * ibm_db_sa://vlp83309:***@ea286ace-86c7-4d5b-8580-3fbfa46b1c66.bs2io90l08kqb1od8lcg.databases.appdomain.cloud:31505/bludb\n",
      "Done.\n"
     ]
    },
    {
     "data": {
      "text/html": [
       "<table>\n",
       "    <thead>\n",
       "        <tr>\n",
       "            <th>year_id</th>\n",
       "            <th>total_sales</th>\n",
       "        </tr>\n",
       "    </thead>\n",
       "    <tbody>\n",
       "        <tr>\n",
       "            <td>2004</td>\n",
       "            <td>427075.74</td>\n",
       "        </tr>\n",
       "        <tr>\n",
       "            <td>2003</td>\n",
       "            <td>367221.26</td>\n",
       "        </tr>\n",
       "        <tr>\n",
       "            <td>2005</td>\n",
       "            <td>108983.85</td>\n",
       "        </tr>\n",
       "    </tbody>\n",
       "</table>"
      ],
      "text/plain": [
       "[(2004, Decimal('427075.74')),\n",
       " (2003, Decimal('367221.26')),\n",
       " (2005, Decimal('108983.85'))]"
      ]
     },
     "execution_count": 12,
     "metadata": {},
     "output_type": "execute_result"
    }
   ],
   "source": [
    "%sql Select year_id, sum(sales) AS Total_sales from SALES group by year_id order by Total_sales desc;"
   ]
  },
  {
   "cell_type": "markdown",
   "id": "e9b7eb94-ab34-4a89-85ef-3beff19aedd0",
   "metadata": {},
   "source": [
    "### Which state sold more products than average product sold?\n"
   ]
  },
  {
   "cell_type": "code",
   "execution_count": 13,
   "id": "d2ee516b-fee6-4eb8-8b8c-23aed741cabf",
   "metadata": {
    "tags": []
   },
   "outputs": [
    {
     "name": "stdout",
     "output_type": "stream",
     "text": [
      " * ibm_db_sa://vlp83309:***@ea286ace-86c7-4d5b-8580-3fbfa46b1c66.bs2io90l08kqb1od8lcg.databases.appdomain.cloud:31505/bludb\n",
      "Done.\n"
     ]
    },
    {
     "data": {
      "text/html": [
       "<table>\n",
       "    <thead>\n",
       "        <tr>\n",
       "            <th>state</th>\n",
       "            <th>total_quantity</th>\n",
       "        </tr>\n",
       "    </thead>\n",
       "    <tbody>\n",
       "        <tr>\n",
       "            <td>NSW</td>\n",
       "            <td>3070</td>\n",
       "        </tr>\n",
       "        <tr>\n",
       "            <td>NY</td>\n",
       "            <td>3663</td>\n",
       "        </tr>\n",
       "        <tr>\n",
       "            <td>Victoria</td>\n",
       "            <td>1926</td>\n",
       "        </tr>\n",
       "    </tbody>\n",
       "</table>"
      ],
      "text/plain": [
       "[('NSW', 3070), ('NY', 3663), ('Victoria', 1926)]"
      ]
     },
     "execution_count": 13,
     "metadata": {},
     "output_type": "execute_result"
    }
   ],
   "source": [
    "%sql Select state, sum(quantityordered) AS Total_quantity from SALES group by state having sum(quantityordered) >(Select AVG(quantityordered) from sales);"
   ]
  },
  {
   "cell_type": "markdown",
   "id": "69f8326c-29d5-4375-a7da-8042e5c1c8cd",
   "metadata": {},
   "source": [
    "### Total sales for each order?"
   ]
  },
  {
   "cell_type": "code",
   "execution_count": 18,
   "id": "0e849153-d1bf-48b7-ba07-7b4efc505bca",
   "metadata": {
    "tags": []
   },
   "outputs": [
    {
     "name": "stdout",
     "output_type": "stream",
     "text": [
      " * ibm_db_sa://vlp83309:***@ea286ace-86c7-4d5b-8580-3fbfa46b1c66.bs2io90l08kqb1od8lcg.databases.appdomain.cloud:31505/bludb\n",
      "Done.\n"
     ]
    },
    {
     "data": {
      "text/html": [
       "<table>\n",
       "    <thead>\n",
       "        <tr>\n",
       "            <th>ordernumber</th>\n",
       "            <th>totalsales</th>\n",
       "        </tr>\n",
       "    </thead>\n",
       "    <tbody>\n",
       "        <tr>\n",
       "            <td>10127</td>\n",
       "            <td>68462.15</td>\n",
       "        </tr>\n",
       "        <tr>\n",
       "            <td>10204</td>\n",
       "            <td>64316.09</td>\n",
       "        </tr>\n",
       "        <tr>\n",
       "            <td>10324</td>\n",
       "            <td>56372.87</td>\n",
       "        </tr>\n",
       "        <tr>\n",
       "            <td>10120</td>\n",
       "            <td>50397.66</td>\n",
       "        </tr>\n",
       "        <tr>\n",
       "            <td>10223</td>\n",
       "            <td>49637.57</td>\n",
       "        </tr>\n",
       "    </tbody>\n",
       "</table>"
      ],
      "text/plain": [
       "[(10127, Decimal('68462.15')),\n",
       " (10204, Decimal('64316.09')),\n",
       " (10324, Decimal('56372.87')),\n",
       " (10120, Decimal('50397.66')),\n",
       " (10223, Decimal('49637.57'))]"
      ]
     },
     "execution_count": 18,
     "metadata": {},
     "output_type": "execute_result"
    }
   ],
   "source": [
    "%sql SELECT ORDERNUMBER, SUM(SALES) AS TotalSales FROM sales GROUP BY ORDERNUMBER ORDER BY TotalSales DESC LIMIT 5;"
   ]
  },
  {
   "cell_type": "markdown",
   "id": "53891eef-b02b-4eb5-9582-f9345a618f2b",
   "metadata": {},
   "source": [
    "### Total sales by quarter?"
   ]
  },
  {
   "cell_type": "code",
   "execution_count": 19,
   "id": "e24e75d1-7ef9-4544-b84c-afee3b451c75",
   "metadata": {
    "tags": []
   },
   "outputs": [
    {
     "name": "stdout",
     "output_type": "stream",
     "text": [
      " * ibm_db_sa://vlp83309:***@ea286ace-86c7-4d5b-8580-3fbfa46b1c66.bs2io90l08kqb1od8lcg.databases.appdomain.cloud:31505/bludb\n",
      "Done.\n"
     ]
    },
    {
     "data": {
      "text/html": [
       "<table>\n",
       "    <thead>\n",
       "        <tr>\n",
       "            <th>year_id</th>\n",
       "            <th>qtr_id</th>\n",
       "            <th>totalsales</th>\n",
       "        </tr>\n",
       "    </thead>\n",
       "    <tbody>\n",
       "        <tr>\n",
       "            <td>2003</td>\n",
       "            <td>1</td>\n",
       "            <td>6864.05</td>\n",
       "        </tr>\n",
       "        <tr>\n",
       "            <td>2003</td>\n",
       "            <td>2</td>\n",
       "            <td>153375.40</td>\n",
       "        </tr>\n",
       "        <tr>\n",
       "            <td>2003</td>\n",
       "            <td>3</td>\n",
       "            <td>75589.02</td>\n",
       "        </tr>\n",
       "        <tr>\n",
       "            <td>2003</td>\n",
       "            <td>4</td>\n",
       "            <td>131392.79</td>\n",
       "        </tr>\n",
       "        <tr>\n",
       "            <td>2004</td>\n",
       "            <td>1</td>\n",
       "            <td>49637.57</td>\n",
       "        </tr>\n",
       "        <tr>\n",
       "            <td>2004</td>\n",
       "            <td>2</td>\n",
       "            <td>26503.12</td>\n",
       "        </tr>\n",
       "        <tr>\n",
       "            <td>2004</td>\n",
       "            <td>3</td>\n",
       "            <td>64549.32</td>\n",
       "        </tr>\n",
       "        <tr>\n",
       "            <td>2004</td>\n",
       "            <td>4</td>\n",
       "            <td>286385.73</td>\n",
       "        </tr>\n",
       "        <tr>\n",
       "            <td>2005</td>\n",
       "            <td>1</td>\n",
       "            <td>65012.42</td>\n",
       "        </tr>\n",
       "        <tr>\n",
       "            <td>2005</td>\n",
       "            <td>2</td>\n",
       "            <td>43971.43</td>\n",
       "        </tr>\n",
       "    </tbody>\n",
       "</table>"
      ],
      "text/plain": [
       "[(2003, 1, Decimal('6864.05')),\n",
       " (2003, 2, Decimal('153375.40')),\n",
       " (2003, 3, Decimal('75589.02')),\n",
       " (2003, 4, Decimal('131392.79')),\n",
       " (2004, 1, Decimal('49637.57')),\n",
       " (2004, 2, Decimal('26503.12')),\n",
       " (2004, 3, Decimal('64549.32')),\n",
       " (2004, 4, Decimal('286385.73')),\n",
       " (2005, 1, Decimal('65012.42')),\n",
       " (2005, 2, Decimal('43971.43'))]"
      ]
     },
     "execution_count": 19,
     "metadata": {},
     "output_type": "execute_result"
    }
   ],
   "source": [
    "%sql SELECT YEAR_ID, QTR_ID, SUM(SALES) AS TotalSales FROM SALES GROUP BY YEAR_ID, QTR_ID ORDER BY YEAR_ID, QTR_ID;"
   ]
  },
  {
   "cell_type": "markdown",
   "id": "b5d88f91-5185-489f-8eab-a1f12376686d",
   "metadata": {},
   "source": [
    "### Average quantity ordered and average price per unit?"
   ]
  },
  {
   "cell_type": "code",
   "execution_count": 20,
   "id": "85553529-29b0-42d7-bb87-c5466bf2ce62",
   "metadata": {
    "tags": []
   },
   "outputs": [
    {
     "name": "stdout",
     "output_type": "stream",
     "text": [
      " * ibm_db_sa://vlp83309:***@ea286ace-86c7-4d5b-8580-3fbfa46b1c66.bs2io90l08kqb1od8lcg.databases.appdomain.cloud:31505/bludb\n",
      "Done.\n"
     ]
    },
    {
     "data": {
      "text/html": [
       "<table>\n",
       "    <thead>\n",
       "        <tr>\n",
       "            <th>avgquantityordered</th>\n",
       "            <th>avgpriceperunit</th>\n",
       "        </tr>\n",
       "    </thead>\n",
       "    <tbody>\n",
       "        <tr>\n",
       "            <td>34</td>\n",
       "            <td>84.452960000000000000000000000</td>\n",
       "        </tr>\n",
       "    </tbody>\n",
       "</table>"
      ],
      "text/plain": [
       "[(34, Decimal('84.452960000000000000000000000'))]"
      ]
     },
     "execution_count": 20,
     "metadata": {},
     "output_type": "execute_result"
    }
   ],
   "source": [
    "%sql SELECT AVG(QUANTITYORDERED) AS AvgQuantityOrdered, AVG(PRICEEACH) AS AvgPricePerUnit FROM SALES;"
   ]
  },
  {
   "cell_type": "markdown",
   "id": "b4a43e00-922c-4fea-91a9-55c1aa93d54c",
   "metadata": {},
   "source": [
    "### Top customers by total sales?"
   ]
  },
  {
   "cell_type": "code",
   "execution_count": 21,
   "id": "82215d29-7b8f-4c7c-b4a9-96af06e19767",
   "metadata": {
    "tags": []
   },
   "outputs": [
    {
     "name": "stdout",
     "output_type": "stream",
     "text": [
      " * ibm_db_sa://vlp83309:***@ea286ace-86c7-4d5b-8580-3fbfa46b1c66.bs2io90l08kqb1od8lcg.databases.appdomain.cloud:31505/bludb\n",
      "Done.\n"
     ]
    },
    {
     "data": {
      "text/html": [
       "<table>\n",
       "    <thead>\n",
       "        <tr>\n",
       "            <th>customername</th>\n",
       "            <th>totalsales</th>\n",
       "        </tr>\n",
       "    </thead>\n",
       "    <tbody>\n",
       "        <tr>\n",
       "            <td>Australian Collectors, Co.</td>\n",
       "            <td>200995.41</td>\n",
       "        </tr>\n",
       "        <tr>\n",
       "            <td>Muscle Machine Inc</td>\n",
       "            <td>197736.94</td>\n",
       "        </tr>\n",
       "        <tr>\n",
       "            <td>Anna&#x27;s Decorations, Ltd</td>\n",
       "            <td>153996.13</td>\n",
       "        </tr>\n",
       "        <tr>\n",
       "            <td>Souveniers And Things Co.</td>\n",
       "            <td>151570.98</td>\n",
       "        </tr>\n",
       "        <tr>\n",
       "            <td>Vitachrome Inc.</td>\n",
       "            <td>88041.26</td>\n",
       "        </tr>\n",
       "        <tr>\n",
       "            <td>Classic Legends Inc.</td>\n",
       "            <td>77795.20</td>\n",
       "        </tr>\n",
       "        <tr>\n",
       "            <td>Microscale Inc.</td>\n",
       "            <td>33144.93</td>\n",
       "        </tr>\n",
       "    </tbody>\n",
       "</table>"
      ],
      "text/plain": [
       "[('Australian Collectors, Co.', Decimal('200995.41')),\n",
       " ('Muscle Machine Inc', Decimal('197736.94')),\n",
       " (\"Anna's Decorations, Ltd\", Decimal('153996.13')),\n",
       " ('Souveniers And Things Co.', Decimal('151570.98')),\n",
       " ('Vitachrome Inc.', Decimal('88041.26')),\n",
       " ('Classic Legends Inc.', Decimal('77795.20')),\n",
       " ('Microscale Inc.', Decimal('33144.93'))]"
      ]
     },
     "execution_count": 21,
     "metadata": {},
     "output_type": "execute_result"
    }
   ],
   "source": [
    "%sql SELECT CUSTOMERNAME, SUM(SALES) AS TotalSales FROM SALES GROUP BY CUSTOMERNAME ORDER BY TotalSales DESC LIMIT 10"
   ]
  },
  {
   "cell_type": "markdown",
   "id": "e4c5eaa1-1ae3-4437-bf24-8cdb22aa57cc",
   "metadata": {},
   "source": [
    "### Sales by deal size?"
   ]
  },
  {
   "cell_type": "code",
   "execution_count": 22,
   "id": "f5468fd6-9068-4671-a6ac-3bc8e5af3008",
   "metadata": {
    "tags": []
   },
   "outputs": [
    {
     "name": "stdout",
     "output_type": "stream",
     "text": [
      " * ibm_db_sa://vlp83309:***@ea286ace-86c7-4d5b-8580-3fbfa46b1c66.bs2io90l08kqb1od8lcg.databases.appdomain.cloud:31505/bludb\n",
      "Done.\n"
     ]
    },
    {
     "data": {
      "text/html": [
       "<table>\n",
       "    <thead>\n",
       "        <tr>\n",
       "            <th>dealsize</th>\n",
       "            <th>totalsales</th>\n",
       "        </tr>\n",
       "    </thead>\n",
       "    <tbody>\n",
       "        <tr>\n",
       "            <td>Large</td>\n",
       "            <td>122861.35</td>\n",
       "        </tr>\n",
       "        <tr>\n",
       "            <td>Medium</td>\n",
       "            <td>556393.76</td>\n",
       "        </tr>\n",
       "        <tr>\n",
       "            <td>Small</td>\n",
       "            <td>224025.74</td>\n",
       "        </tr>\n",
       "    </tbody>\n",
       "</table>"
      ],
      "text/plain": [
       "[('Large', Decimal('122861.35')),\n",
       " ('Medium', Decimal('556393.76')),\n",
       " ('Small', Decimal('224025.74'))]"
      ]
     },
     "execution_count": 22,
     "metadata": {},
     "output_type": "execute_result"
    }
   ],
   "source": [
    "%sql SELECT DEALSIZE, SUM(SALES) AS TotalSales FROM SALES GROUP BY DEALSIZE;"
   ]
  },
  {
   "cell_type": "markdown",
   "id": "adea783c-e8fe-4bed-a5f6-613fb1301ebc",
   "metadata": {},
   "source": [
    "### Sales by territory?"
   ]
  },
  {
   "cell_type": "code",
   "execution_count": 23,
   "id": "0d9ef038-e8bc-4684-9601-dd8408c54950",
   "metadata": {
    "tags": []
   },
   "outputs": [
    {
     "name": "stdout",
     "output_type": "stream",
     "text": [
      " * ibm_db_sa://vlp83309:***@ea286ace-86c7-4d5b-8580-3fbfa46b1c66.bs2io90l08kqb1od8lcg.databases.appdomain.cloud:31505/bludb\n",
      "Done.\n"
     ]
    },
    {
     "data": {
      "text/html": [
       "<table>\n",
       "    <thead>\n",
       "        <tr>\n",
       "            <th>territory</th>\n",
       "            <th>totalsales</th>\n",
       "        </tr>\n",
       "    </thead>\n",
       "    <tbody>\n",
       "        <tr>\n",
       "            <td>APAC</td>\n",
       "            <td>506562.52</td>\n",
       "        </tr>\n",
       "        <tr>\n",
       "            <td>NA</td>\n",
       "            <td>396718.33</td>\n",
       "        </tr>\n",
       "    </tbody>\n",
       "</table>"
      ],
      "text/plain": [
       "[('APAC', Decimal('506562.52')), ('NA', Decimal('396718.33'))]"
      ]
     },
     "execution_count": 23,
     "metadata": {},
     "output_type": "execute_result"
    }
   ],
   "source": [
    "%sql SELECT TERRITORY, SUM(SALES) AS TotalSales FROM SALES GROUP BY TERRITORY;"
   ]
  },
  {
   "cell_type": "markdown",
   "id": "b0596b47-d5eb-40e0-91d7-a38d559007f0",
   "metadata": {},
   "source": [
    "### Total sales by product line and territory"
   ]
  },
  {
   "cell_type": "code",
   "execution_count": 24,
   "id": "d1185925-081e-49ef-b6a7-76cd96014690",
   "metadata": {
    "tags": []
   },
   "outputs": [
    {
     "name": "stdout",
     "output_type": "stream",
     "text": [
      " * ibm_db_sa://vlp83309:***@ea286ace-86c7-4d5b-8580-3fbfa46b1c66.bs2io90l08kqb1od8lcg.databases.appdomain.cloud:31505/bludb\n",
      "Done.\n"
     ]
    },
    {
     "data": {
      "text/html": [
       "<table>\n",
       "    <thead>\n",
       "        <tr>\n",
       "            <th>productline</th>\n",
       "            <th>territory</th>\n",
       "            <th>totalsales</th>\n",
       "        </tr>\n",
       "    </thead>\n",
       "    <tbody>\n",
       "        <tr>\n",
       "            <td>Classic Cars</td>\n",
       "            <td>APAC</td>\n",
       "            <td>161870.46</td>\n",
       "        </tr>\n",
       "        <tr>\n",
       "            <td>Classic Cars</td>\n",
       "            <td>NA</td>\n",
       "            <td>218087.77</td>\n",
       "        </tr>\n",
       "        <tr>\n",
       "            <td>Motorcycles</td>\n",
       "            <td>APAC</td>\n",
       "            <td>75476.67</td>\n",
       "        </tr>\n",
       "        <tr>\n",
       "            <td>Motorcycles</td>\n",
       "            <td>NA</td>\n",
       "            <td>41261.64</td>\n",
       "        </tr>\n",
       "        <tr>\n",
       "            <td>Planes</td>\n",
       "            <td>APAC</td>\n",
       "            <td>63772.09</td>\n",
       "        </tr>\n",
       "        <tr>\n",
       "            <td>Ships</td>\n",
       "            <td>APAC</td>\n",
       "            <td>1089.36</td>\n",
       "        </tr>\n",
       "        <tr>\n",
       "            <td>Ships</td>\n",
       "            <td>NA</td>\n",
       "            <td>14057.47</td>\n",
       "        </tr>\n",
       "        <tr>\n",
       "            <td>Trains</td>\n",
       "            <td>NA</td>\n",
       "            <td>7530.65</td>\n",
       "        </tr>\n",
       "        <tr>\n",
       "            <td>Trucks and Buses</td>\n",
       "            <td>APAC</td>\n",
       "            <td>66020.96</td>\n",
       "        </tr>\n",
       "        <tr>\n",
       "            <td>Trucks and Buses</td>\n",
       "            <td>NA</td>\n",
       "            <td>54677.54</td>\n",
       "        </tr>\n",
       "        <tr>\n",
       "            <td>Vintage Cars</td>\n",
       "            <td>APAC</td>\n",
       "            <td>138332.98</td>\n",
       "        </tr>\n",
       "        <tr>\n",
       "            <td>Vintage Cars</td>\n",
       "            <td>NA</td>\n",
       "            <td>61103.26</td>\n",
       "        </tr>\n",
       "    </tbody>\n",
       "</table>"
      ],
      "text/plain": [
       "[('Classic Cars', 'APAC', Decimal('161870.46')),\n",
       " ('Classic Cars', 'NA', Decimal('218087.77')),\n",
       " ('Motorcycles', 'APAC', Decimal('75476.67')),\n",
       " ('Motorcycles', 'NA', Decimal('41261.64')),\n",
       " ('Planes', 'APAC', Decimal('63772.09')),\n",
       " ('Ships', 'APAC', Decimal('1089.36')),\n",
       " ('Ships', 'NA', Decimal('14057.47')),\n",
       " ('Trains', 'NA', Decimal('7530.65')),\n",
       " ('Trucks and Buses', 'APAC', Decimal('66020.96')),\n",
       " ('Trucks and Buses', 'NA', Decimal('54677.54')),\n",
       " ('Vintage Cars', 'APAC', Decimal('138332.98')),\n",
       " ('Vintage Cars', 'NA', Decimal('61103.26'))]"
      ]
     },
     "execution_count": 24,
     "metadata": {},
     "output_type": "execute_result"
    }
   ],
   "source": [
    "%sql SELECT PRODUCTLINE, TERRITORY, SUM(SALES) AS TotalSales FROM SALES GROUP BY PRODUCTLINE, TERRITORY;"
   ]
  },
  {
   "cell_type": "markdown",
   "id": "e30880f2-5fbf-4ad9-b5b7-4c64d4e181bd",
   "metadata": {},
   "source": [
    "### Total sales by deal size and territory"
   ]
  },
  {
   "cell_type": "code",
   "execution_count": 25,
   "id": "8d45a03c-b3e4-4337-9d8a-766d9e866f40",
   "metadata": {
    "tags": []
   },
   "outputs": [
    {
     "name": "stdout",
     "output_type": "stream",
     "text": [
      " * ibm_db_sa://vlp83309:***@ea286ace-86c7-4d5b-8580-3fbfa46b1c66.bs2io90l08kqb1od8lcg.databases.appdomain.cloud:31505/bludb\n",
      "Done.\n"
     ]
    },
    {
     "data": {
      "text/html": [
       "<table>\n",
       "    <thead>\n",
       "        <tr>\n",
       "            <th>dealsize</th>\n",
       "            <th>territory</th>\n",
       "            <th>totalsales</th>\n",
       "        </tr>\n",
       "    </thead>\n",
       "    <tbody>\n",
       "        <tr>\n",
       "            <td>Large</td>\n",
       "            <td>APAC</td>\n",
       "            <td>43810.20</td>\n",
       "        </tr>\n",
       "        <tr>\n",
       "            <td>Large</td>\n",
       "            <td>NA</td>\n",
       "            <td>79051.15</td>\n",
       "        </tr>\n",
       "        <tr>\n",
       "            <td>Medium</td>\n",
       "            <td>APAC</td>\n",
       "            <td>314428.92</td>\n",
       "        </tr>\n",
       "        <tr>\n",
       "            <td>Medium</td>\n",
       "            <td>NA</td>\n",
       "            <td>241964.84</td>\n",
       "        </tr>\n",
       "        <tr>\n",
       "            <td>Small</td>\n",
       "            <td>APAC</td>\n",
       "            <td>148323.40</td>\n",
       "        </tr>\n",
       "        <tr>\n",
       "            <td>Small</td>\n",
       "            <td>NA</td>\n",
       "            <td>75702.34</td>\n",
       "        </tr>\n",
       "    </tbody>\n",
       "</table>"
      ],
      "text/plain": [
       "[('Large', 'APAC', Decimal('43810.20')),\n",
       " ('Large', 'NA', Decimal('79051.15')),\n",
       " ('Medium', 'APAC', Decimal('314428.92')),\n",
       " ('Medium', 'NA', Decimal('241964.84')),\n",
       " ('Small', 'APAC', Decimal('148323.40')),\n",
       " ('Small', 'NA', Decimal('75702.34'))]"
      ]
     },
     "execution_count": 25,
     "metadata": {},
     "output_type": "execute_result"
    }
   ],
   "source": [
    "%sql SELECT DEALSIZE, TERRITORY, SUM(SALES) AS TotalSales FROM SALES GROUP BY DEALSIZE, TERRITORY;"
   ]
  },
  {
   "cell_type": "markdown",
   "id": "30d40cec-c3cb-47f7-9575-99fe1b0afa90",
   "metadata": {},
   "source": [
    "### Top products by sales quantity?"
   ]
  },
  {
   "cell_type": "code",
   "execution_count": 26,
   "id": "b4ec987c-4df0-431b-97ea-9fd0b2516114",
   "metadata": {
    "tags": []
   },
   "outputs": [
    {
     "name": "stdout",
     "output_type": "stream",
     "text": [
      " * ibm_db_sa://vlp83309:***@ea286ace-86c7-4d5b-8580-3fbfa46b1c66.bs2io90l08kqb1od8lcg.databases.appdomain.cloud:31505/bludb\n",
      "Done.\n"
     ]
    },
    {
     "data": {
      "text/html": [
       "<table>\n",
       "    <thead>\n",
       "        <tr>\n",
       "            <th>productcode</th>\n",
       "            <th>totalquantityordered</th>\n",
       "        </tr>\n",
       "    </thead>\n",
       "    <tbody>\n",
       "        <tr>\n",
       "            <td>S18_2949</td>\n",
       "            <td>188</td>\n",
       "        </tr>\n",
       "        <tr>\n",
       "            <td>S18_3232</td>\n",
       "            <td>186</td>\n",
       "        </tr>\n",
       "        <tr>\n",
       "            <td>S18_2238</td>\n",
       "            <td>176</td>\n",
       "        </tr>\n",
       "        <tr>\n",
       "            <td>S24_2887</td>\n",
       "            <td>174</td>\n",
       "        </tr>\n",
       "        <tr>\n",
       "            <td>S18_1367</td>\n",
       "            <td>153</td>\n",
       "        </tr>\n",
       "        <tr>\n",
       "            <td>S24_3191</td>\n",
       "            <td>150</td>\n",
       "        </tr>\n",
       "        <tr>\n",
       "            <td>S18_4933</td>\n",
       "            <td>146</td>\n",
       "        </tr>\n",
       "        <tr>\n",
       "            <td>S12_1666</td>\n",
       "            <td>145</td>\n",
       "        </tr>\n",
       "        <tr>\n",
       "            <td>S24_2766</td>\n",
       "            <td>145</td>\n",
       "        </tr>\n",
       "        <tr>\n",
       "            <td>S24_1046</td>\n",
       "            <td>145</td>\n",
       "        </tr>\n",
       "    </tbody>\n",
       "</table>"
      ],
      "text/plain": [
       "[('S18_2949', 188),\n",
       " ('S18_3232', 186),\n",
       " ('S18_2238', 176),\n",
       " ('S24_2887', 174),\n",
       " ('S18_1367', 153),\n",
       " ('S24_3191', 150),\n",
       " ('S18_4933', 146),\n",
       " ('S12_1666', 145),\n",
       " ('S24_2766', 145),\n",
       " ('S24_1046', 145)]"
      ]
     },
     "execution_count": 26,
     "metadata": {},
     "output_type": "execute_result"
    }
   ],
   "source": [
    "%sql SELECT PRODUCTCODE, SUM(QUANTITYORDERED) AS TotalQuantityOrdered FROM SALES GROUP BY PRODUCTCODE ORDER BY TotalQuantityOrdered DESC LIMIT 10;"
   ]
  },
  {
   "cell_type": "markdown",
   "id": "1627560c-9e5b-49ef-9b66-59365ef280a9",
   "metadata": {},
   "source": [
    "### Total sales by country?"
   ]
  },
  {
   "cell_type": "code",
   "execution_count": 27,
   "id": "84727fcb-77d1-4384-8760-d8c1dc788de4",
   "metadata": {
    "tags": []
   },
   "outputs": [
    {
     "name": "stdout",
     "output_type": "stream",
     "text": [
      " * ibm_db_sa://vlp83309:***@ea286ace-86c7-4d5b-8580-3fbfa46b1c66.bs2io90l08kqb1od8lcg.databases.appdomain.cloud:31505/bludb\n",
      "Done.\n"
     ]
    },
    {
     "data": {
      "text/html": [
       "<table>\n",
       "    <thead>\n",
       "        <tr>\n",
       "            <th>country</th>\n",
       "            <th>totalsales</th>\n",
       "        </tr>\n",
       "    </thead>\n",
       "    <tbody>\n",
       "        <tr>\n",
       "            <td>Australia</td>\n",
       "            <td>506562.52</td>\n",
       "        </tr>\n",
       "        <tr>\n",
       "            <td>USA</td>\n",
       "            <td>396718.33</td>\n",
       "        </tr>\n",
       "    </tbody>\n",
       "</table>"
      ],
      "text/plain": [
       "[('Australia', Decimal('506562.52')), ('USA', Decimal('396718.33'))]"
      ]
     },
     "execution_count": 27,
     "metadata": {},
     "output_type": "execute_result"
    }
   ],
   "source": [
    "%sql SELECT COUNTRY, SUM(SALES) AS TotalSales FROM SALES GROUP BY COUNTRY ORDER BY TotalSales DESC;"
   ]
  },
  {
   "cell_type": "markdown",
   "id": "3bbdbb9b-6b25-4349-9052-8fd106937a32",
   "metadata": {},
   "source": [
    "# Conclusion "
   ]
  },
  {
   "cell_type": "code",
   "execution_count": null,
   "id": "70cabefd-1b84-4181-a0c3-1603c479028a",
   "metadata": {},
   "outputs": [],
   "source": []
  }
 ],
 "metadata": {
  "kernelspec": {
   "display_name": "Python",
   "language": "python",
   "name": "conda-env-python-py"
  },
  "language_info": {
   "codemirror_mode": {
    "name": "ipython",
    "version": 3
   },
   "file_extension": ".py",
   "mimetype": "text/x-python",
   "name": "python",
   "nbconvert_exporter": "python",
   "pygments_lexer": "ipython3",
   "version": "3.7.12"
  }
 },
 "nbformat": 4,
 "nbformat_minor": 5
}
